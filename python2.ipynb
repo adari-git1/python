{
 "cells": [
  {
   "cell_type": "code",
   "execution_count": 2,
   "id": "ee81e4ef-842a-4a3c-aa17-412b83351161",
   "metadata": {},
   "outputs": [
    {
     "name": "stdout",
     "output_type": "stream",
     "text": [
      "City: Miami , Letters : 5\n",
      "City: Orlando , Letters : 7\n",
      "City: Tampa , Letters : 5\n"
     ]
    }
   ],
   "source": [
    "cities=['Miami','Orlando','Tampa']\n",
    "for city in cities:\n",
    "    print(\"City:\",city,\", Letters :\",len(city))"
   ]
  },
  {
   "cell_type": "code",
   "execution_count": 22,
   "id": "4012c06f-e642-4cba-b656-63244112bea2",
   "metadata": {},
   "outputs": [
    {
     "name": "stdout",
     "output_type": "stream",
     "text": [
      "Classics,avg length is 8.666666666666666\n",
      "Trendy_flavors,avg length is 11.666666666666666\n",
      "Kid_Friendly,avg length is 12.0\n",
      "Seasonal_Specials,avg length is 11.333333333333334\n"
     ]
    }
   ],
   "source": [
    "Classics=['VANILLA','CHOCOLATE','STRAWBERRY']\n",
    "Trendy_flavors=['SALTED CARAMEL','MATCHA','COOKIES & CREAM']\n",
    "Kid_Friendly=['RAINBOW SHERBET','BUBBLEGUM','COTTON CANDY']\n",
    "Seasonal_Specials=['MANGO','PINEAPPLE-COCONUT','KEY LIME PIE']\n",
    "cl=0\n",
    "for i in Classics:\n",
    "    cl+=len(i)\n",
    "tr=0\n",
    "for i in Trendy_flavors:\n",
    "    tr+=len(i)\n",
    "ki=0\n",
    "for i in Kid_Friendly:\n",
    "    ki+=len(i)\n",
    "se=0\n",
    "for i in Seasonal_Specials:\n",
    "    se+=len(i)\n",
    "print(\"Classics,avg length is\",(cl/len(Classics)))\n",
    "print(\"Trendy_flavors,avg length is\",(tr/len(Trendy_flavors)))\n",
    "print(\"Kid_Friendly,avg length is\",(ki/len(Kid_Friendly)))\n",
    "print(\"Seasonal_Specials,avg length is\",(se/len(Seasonal_Specials)))"
   ]
  },
  {
   "cell_type": "code",
   "execution_count": 23,
   "id": "be967bca-d1a6-440b-b363-2bfb1c8d2d21",
   "metadata": {},
   "outputs": [
    {
     "name": "stdout",
     "output_type": "stream",
     "text": [
      "['BUBBLEGUM', 'CHOCOLATE', 'COOKIES & CREAM', 'COTTON CANDY', 'KEY LIME PIE', 'MANGO', 'MATCHA', 'PINEAPPLE-COCONUT', 'RAINBOW SHERBET', 'SALTED CARAMEL', 'STRAWBERRY', 'VANILLA']\n"
     ]
    }
   ],
   "source": [
    "flavors=Classics+Trendy_flavors+Kid_Friendly+Seasonal_Specials\n",
    "flavors1=sorted(flavors)\n",
    "print(flavors1)"
   ]
  },
  {
   "cell_type": "code",
   "execution_count": 76,
   "id": "0f45e900-10ae-4936-8a6c-ad72170a21f8",
   "metadata": {},
   "outputs": [
    {
     "name": "stdout",
     "output_type": "stream",
     "text": [
      "2.25\n"
     ]
    }
   ],
   "source": [
    "flavors=['chocolate chips','whipped cream','gummy bears']\n",
    "total_cost=0\n",
    "toppings={\n",
    "    'standard toppings':[['SPRINKLES',,'CRUSHED COOKIES','CHOCOLATE CHIPS'],0.5],\n",
    "    'premium toppings':[['FRESH FRUIT','WHIPPED CREAM','CARAMEL DRIZZLE','CHOCOLATE DRIZZLE','TOASTED COCONUT FLAKES'],0.75],\n",
    "    'speciality toppings':[['POP ROCKS','Tajin spice','gummy bears'],1.0]\n",
    "}\n",
    "for i in flavors:\n",
    "    for j in toppings:\n",
    "        if i in toppings[j][0]:\n",
    "            total_cost+=toppings[j][1]\n",
    "print(total_cost)"
   ]
  },
  {
   "cell_type": "code",
   "execution_count": 113,
   "id": "6245425f-dd87-4548-afdb-29654083dc58",
   "metadata": {},
   "outputs": [
    {
     "name": "stdout",
     "output_type": "stream",
     "text": [
      "7.5\n",
      "3.0\n"
     ]
    }
   ],
   "source": [
    "base={\n",
    "    'single scoop':3.00,\n",
    "    'double scoop':5.50,\n",
    "    'triple scoop':7.50\n",
    "}\n",
    "base_icecreams=()\n",
    "for i in base:\n",
    "    new=base[i]\n",
    "    base_icecreams+=(new,)\n",
    "print(max(base_icecreams))\n",
    "print(min(base_icecreams))"
   ]
  },
  {
   "cell_type": "code",
   "execution_count": 88,
   "id": "5c2678b7-a929-4873-9674-00b1dfea8864",
   "metadata": {},
   "outputs": [
    {
     "name": "stdin",
     "output_type": "stream",
     "text": [
      "which flavor VANILLA\n"
     ]
    },
    {
     "name": "stdout",
     "output_type": "stream",
     "text": [
      "Calssics\n"
     ]
    }
   ],
   "source": [
    "\n",
    "Classics=['VANILLA','CHOCOLATE','STRAWBERRY']\n",
    "Trendy_flavors=['SALTED CARAMEL','MATCHA','COOKIES & CREAM']\n",
    "Kid_Friendly=['RAINBOW SHERBET','BUBBLEGUM','COTTON CANDY']\n",
    "Seasonal_Specials=['MANGO','PINEAPPLE-COCONUT','KEY LIME PIE']\n",
    "i=input(\"which flavor\")\n",
    "if i in Classics:\n",
    "    print('Calssics')\n",
    "elif i in Trendy_flavors:\n",
    "    print('Trendy_flavors')\n",
    "elif i in Kid_Friendly:\n",
    "    print('Kid_Friendly')\n",
    "else:\n",
    "    print('Seasonal_Specials')"
   ]
  },
  {
   "cell_type": "code",
   "execution_count": 91,
   "id": "7a7f376f-0f1b-4cd6-9b89-2f81efeddf51",
   "metadata": {},
   "outputs": [
    {
     "name": "stdin",
     "output_type": "stream",
     "text": [
      "enter the city name: Miami\n"
     ]
    },
    {
     "name": "stdout",
     "output_type": "stream",
     "text": [
      "It's a valid city\n"
     ]
    }
   ],
   "source": [
    "city=input(\"enter the city name:\")\n",
    "if city in cities:\n",
    "    print(\"It's a valid city\")\n",
    "else:\n",
    "    print(\"It's not a valid city\")\n",
    "    "
   ]
  },
  {
   "cell_type": "code",
   "execution_count": 96,
   "id": "725df78d-f0b5-498f-ab08-93f52bdd6948",
   "metadata": {},
   "outputs": [],
   "source": [
    "flavors1=['BUBBLEGUM', 'CHOCOLATE', 'COOKIES & CREAM', 'COTTON CANDY', 'KEY LIME PIE', 'MANGO', 'MATCHA', 'PINEAPPLE-COCONUT', 'RAINBOW SHERBET', 'SALTED CARAMEL', 'STRAWBERRY', 'VANILLA']\n",
    "toppings={\n",
    "    'standard toppings':[['SPRINKLES','CRUSHED COOKIES','CHOCOLATE CHIPS'],0.5],\n",
    "    'premium toppings':[['FRESH FRUIT','WHIPPED CREAM','CARAMEL DRIZZLE','CHOCOLATE DRIZZLE','TOASTED COCONUT FLAKES'],0.75],\n",
    "    'speciality toppings':[['POP ROCKS','Tajin spice','gummy bears'],1.0]\n",
    "}\n",
    "PRICING=[]\n",
    "pairings=[['Vanilla' , 'chocolate chips'],\n",
    "['chocolate' , 'crushed cookies'],\n",
    "['strawberry' , 'whipped Cream' , 'Fresh fruit'],\n",
    "['Matcha' , 'Chocolate Drizzle' , 'Toasted Coconut FLAKES'],\n",
    "['Salted Caramel' ,'CRUSHED COOKIES' , 'Caramel DRIZZLE'],\n",
    "['Cookies & Cream' , 'Chocolate' , 'Crushed Cookies'],\n",
    "['SPRINKLES', 'Sprinkles' , 'Gummy Bears'],\n",
    "['Bubblegum' , 'Mini Marshmallows' ,'COTTON CANDY'],\n",
    "['Cotton Candy' , 'Pop Rocks'],\n",
    "['Mango' , 'Tajin Spice' ],\n",
    "['Pineapple-Coconut' , 'Crushed CHIPS'],\n",
    "['Key Lime Pie' ,'Crushed CHIPS' , 'Whipped Cream']]\n",
    "pairings= [[s.upper() for s in inner_list] for inner_list in pairings]\n"
   ]
  },
  {
   "cell_type": "code",
   "execution_count": 97,
   "id": "84759e15-1f76-4011-a0d0-8bc0859b8720",
   "metadata": {},
   "outputs": [
    {
     "name": "stdout",
     "output_type": "stream",
     "text": [
      "[3.5, 3.5, 4.5, 4.5, 4.25, 6.5, 1.0, 6.0, 4.0, 3.0, 3.0, 3.75]\n"
     ]
    }
   ],
   "source": [
    "for i in pairings:\n",
    "    cost=0\n",
    "    for j in i:\n",
    "        if j in flavors1:\n",
    "            cost+=3.0\n",
    "        #again iterate through topping dict to find out the cost\n",
    "        else:\n",
    "            for k in toppings:\n",
    "                if j in toppings[k][0]:\n",
    "                    cost+=toppings[k][1]\n",
    "    PRICING.append(cost)\n",
    "print(PRICING)"
   ]
  },
  {
   "cell_type": "code",
   "execution_count": 109,
   "id": "e4de3c03-2129-4645-b588-a1e27c7696fc",
   "metadata": {},
   "outputs": [
    {
     "name": "stdin",
     "output_type": "stream",
     "text": [
      "please select no.of scoops from the following : 1.single scoop 2.double scoop 3.triple scoop double scoop\n",
      "please select type of prepacked food from following : 1.ice cream bars 2.popsicles 3.mini tubes mini tubes\n",
      "please select the size alse 1.small 2.medium 3.large large\n"
     ]
    },
    {
     "name": "stdout",
     "output_type": "stream",
     "text": [
      "cost of  double scoop - 5.5\n",
      "cost of  mini tubes - 4.5\n",
      "total cost is - 10.0\n"
     ]
    }
   ],
   "source": [
    "\n",
    "base={\n",
    "    'single scoop':3.00,\n",
    "    'double scoop':5.50,\n",
    "    'triple scoop':7.50\n",
    "}\n",
    "pre_packed={\n",
    "    'ice cream bars':[2.5,3.0,3.5],\n",
    "    'popsicles':[2.0,2.5,2.75],\n",
    "    'mini tubes':[3.5,4.0,4.5]\n",
    "\n",
    "}\n",
    "scoop=input(\"please select no.of scoops from the following : 1.single scoop 2.double scoop 3.triple scoop\")\n",
    "scoop_value=base[scoop]\n",
    "packed=input(\"please select type of prepacked food from following : 1.ice cream bars 2.popsicles 3.mini tubes\")\n",
    "size=input(\"please select the size alse 1.small 2.medium 3.large\")\n",
    "if size =='small':\n",
    "    packed_value=pre_packed[packed][0]\n",
    "elif size =='medium':\n",
    "    packed_value=pre_packed[packed][1]\n",
    "elif size=='large':\n",
    "    packed_value=pre_packed[packed][2]\n",
    "else:\n",
    "    print('invalid size,please select correct one')\n",
    "total_cost=scoop_value+packed_value\n",
    "print(\"cost of \",scoop,'-',scoop_value)\n",
    "print(\"cost of \",packed,'-',packed_value)\n",
    "print(\"total cost is -\",total_cost)"
   ]
  },
  {
   "cell_type": "code",
   "execution_count": 111,
   "id": "eb8f1b92-3e07-42ec-b320-60a3c39da2c9",
   "metadata": {},
   "outputs": [
    {
     "name": "stdout",
     "output_type": "stream",
     "text": [
      "BUBBLEGUM - SPRINKLES\n",
      "BUBBLEGUM - CRUSHED COOKIES\n",
      "BUBBLEGUM - CHOCOLATE CHIPS\n",
      "BUBBLEGUM - FRESH FRUIT\n",
      "BUBBLEGUM - WHIPPED CREAM\n",
      "BUBBLEGUM - CARAMEL DRIZZLE\n",
      "BUBBLEGUM - CHOCOLATE DRIZZLE\n",
      "BUBBLEGUM - TOASTED COCONUT FLAKES\n",
      "BUBBLEGUM - POP ROCKS\n",
      "BUBBLEGUM - Tajin spice\n",
      "BUBBLEGUM - gummy bears\n",
      "CHOCOLATE - SPRINKLES\n",
      "CHOCOLATE - CRUSHED COOKIES\n",
      "CHOCOLATE - CHOCOLATE CHIPS\n",
      "CHOCOLATE - FRESH FRUIT\n",
      "CHOCOLATE - WHIPPED CREAM\n",
      "CHOCOLATE - CARAMEL DRIZZLE\n",
      "CHOCOLATE - CHOCOLATE DRIZZLE\n",
      "CHOCOLATE - TOASTED COCONUT FLAKES\n",
      "CHOCOLATE - POP ROCKS\n",
      "CHOCOLATE - Tajin spice\n",
      "CHOCOLATE - gummy bears\n",
      "COOKIES & CREAM - SPRINKLES\n",
      "COOKIES & CREAM - CRUSHED COOKIES\n",
      "COOKIES & CREAM - CHOCOLATE CHIPS\n",
      "COOKIES & CREAM - FRESH FRUIT\n",
      "COOKIES & CREAM - WHIPPED CREAM\n",
      "COOKIES & CREAM - CARAMEL DRIZZLE\n",
      "COOKIES & CREAM - CHOCOLATE DRIZZLE\n",
      "COOKIES & CREAM - TOASTED COCONUT FLAKES\n",
      "COOKIES & CREAM - POP ROCKS\n",
      "COOKIES & CREAM - Tajin spice\n",
      "COOKIES & CREAM - gummy bears\n",
      "COTTON CANDY - SPRINKLES\n",
      "COTTON CANDY - CRUSHED COOKIES\n",
      "COTTON CANDY - CHOCOLATE CHIPS\n",
      "COTTON CANDY - FRESH FRUIT\n",
      "COTTON CANDY - WHIPPED CREAM\n",
      "COTTON CANDY - CARAMEL DRIZZLE\n",
      "COTTON CANDY - CHOCOLATE DRIZZLE\n",
      "COTTON CANDY - TOASTED COCONUT FLAKES\n",
      "COTTON CANDY - POP ROCKS\n",
      "COTTON CANDY - Tajin spice\n",
      "COTTON CANDY - gummy bears\n",
      "KEY LIME PIE - SPRINKLES\n",
      "KEY LIME PIE - CRUSHED COOKIES\n",
      "KEY LIME PIE - CHOCOLATE CHIPS\n",
      "KEY LIME PIE - FRESH FRUIT\n",
      "KEY LIME PIE - WHIPPED CREAM\n",
      "KEY LIME PIE - CARAMEL DRIZZLE\n",
      "KEY LIME PIE - CHOCOLATE DRIZZLE\n",
      "KEY LIME PIE - TOASTED COCONUT FLAKES\n",
      "KEY LIME PIE - POP ROCKS\n",
      "KEY LIME PIE - Tajin spice\n",
      "KEY LIME PIE - gummy bears\n",
      "MANGO - SPRINKLES\n",
      "MANGO - CRUSHED COOKIES\n",
      "MANGO - CHOCOLATE CHIPS\n",
      "MANGO - FRESH FRUIT\n",
      "MANGO - WHIPPED CREAM\n",
      "MANGO - CARAMEL DRIZZLE\n",
      "MANGO - CHOCOLATE DRIZZLE\n",
      "MANGO - TOASTED COCONUT FLAKES\n",
      "MANGO - POP ROCKS\n",
      "MANGO - Tajin spice\n",
      "MANGO - gummy bears\n",
      "MATCHA - SPRINKLES\n",
      "MATCHA - CRUSHED COOKIES\n",
      "MATCHA - CHOCOLATE CHIPS\n",
      "MATCHA - FRESH FRUIT\n",
      "MATCHA - WHIPPED CREAM\n",
      "MATCHA - CARAMEL DRIZZLE\n",
      "MATCHA - CHOCOLATE DRIZZLE\n",
      "MATCHA - TOASTED COCONUT FLAKES\n",
      "MATCHA - POP ROCKS\n",
      "MATCHA - Tajin spice\n",
      "MATCHA - gummy bears\n",
      "PINEAPPLE-COCONUT - SPRINKLES\n",
      "PINEAPPLE-COCONUT - CRUSHED COOKIES\n",
      "PINEAPPLE-COCONUT - CHOCOLATE CHIPS\n",
      "PINEAPPLE-COCONUT - FRESH FRUIT\n",
      "PINEAPPLE-COCONUT - WHIPPED CREAM\n",
      "PINEAPPLE-COCONUT - CARAMEL DRIZZLE\n",
      "PINEAPPLE-COCONUT - CHOCOLATE DRIZZLE\n",
      "PINEAPPLE-COCONUT - TOASTED COCONUT FLAKES\n",
      "PINEAPPLE-COCONUT - POP ROCKS\n",
      "PINEAPPLE-COCONUT - Tajin spice\n",
      "PINEAPPLE-COCONUT - gummy bears\n",
      "RAINBOW SHERBET - SPRINKLES\n",
      "RAINBOW SHERBET - CRUSHED COOKIES\n",
      "RAINBOW SHERBET - CHOCOLATE CHIPS\n",
      "RAINBOW SHERBET - FRESH FRUIT\n",
      "RAINBOW SHERBET - WHIPPED CREAM\n",
      "RAINBOW SHERBET - CARAMEL DRIZZLE\n",
      "RAINBOW SHERBET - CHOCOLATE DRIZZLE\n",
      "RAINBOW SHERBET - TOASTED COCONUT FLAKES\n",
      "RAINBOW SHERBET - POP ROCKS\n",
      "RAINBOW SHERBET - Tajin spice\n",
      "RAINBOW SHERBET - gummy bears\n",
      "SALTED CARAMEL - SPRINKLES\n",
      "SALTED CARAMEL - CRUSHED COOKIES\n",
      "SALTED CARAMEL - CHOCOLATE CHIPS\n",
      "SALTED CARAMEL - FRESH FRUIT\n",
      "SALTED CARAMEL - WHIPPED CREAM\n",
      "SALTED CARAMEL - CARAMEL DRIZZLE\n",
      "SALTED CARAMEL - CHOCOLATE DRIZZLE\n",
      "SALTED CARAMEL - TOASTED COCONUT FLAKES\n",
      "SALTED CARAMEL - POP ROCKS\n",
      "SALTED CARAMEL - Tajin spice\n",
      "SALTED CARAMEL - gummy bears\n",
      "STRAWBERRY - SPRINKLES\n",
      "STRAWBERRY - CRUSHED COOKIES\n",
      "STRAWBERRY - CHOCOLATE CHIPS\n",
      "STRAWBERRY - FRESH FRUIT\n",
      "STRAWBERRY - WHIPPED CREAM\n",
      "STRAWBERRY - CARAMEL DRIZZLE\n",
      "STRAWBERRY - CHOCOLATE DRIZZLE\n",
      "STRAWBERRY - TOASTED COCONUT FLAKES\n",
      "STRAWBERRY - POP ROCKS\n",
      "STRAWBERRY - Tajin spice\n",
      "STRAWBERRY - gummy bears\n",
      "VANILLA - SPRINKLES\n",
      "VANILLA - CRUSHED COOKIES\n",
      "VANILLA - CHOCOLATE CHIPS\n",
      "VANILLA - FRESH FRUIT\n",
      "VANILLA - WHIPPED CREAM\n",
      "VANILLA - CARAMEL DRIZZLE\n",
      "VANILLA - CHOCOLATE DRIZZLE\n",
      "VANILLA - TOASTED COCONUT FLAKES\n",
      "VANILLA - POP ROCKS\n",
      "VANILLA - Tajin spice\n",
      "VANILLA - gummy bears\n"
     ]
    }
   ],
   "source": [
    "flavors1=['BUBBLEGUM', 'CHOCOLATE', 'COOKIES & CREAM', 'COTTON CANDY', 'KEY LIME PIE', 'MANGO', 'MATCHA', 'PINEAPPLE-COCONUT', 'RAINBOW SHERBET', 'SALTED CARAMEL', 'STRAWBERRY', 'VANILLA']\n",
    "toppings=['SPRINKLES','CRUSHED COOKIES','CHOCOLATE CHIPS','FRESH FRUIT','WHIPPED CREAM','CARAMEL DRIZZLE','CHOCOLATE DRIZZLE','TOASTED COCONUT FLAKES','POP ROCKS','Tajin spice','gummy bears']\n",
    "pairings=[]\n",
    "for i in flavors1:\n",
    "    for j in toppings:\n",
    "        pairings.append([i,j])\n",
    "for i in pairings:\n",
    "    print(i[0],'-',i[1])\n"
   ]
  },
  {
   "cell_type": "code",
   "execution_count": null,
   "id": "9c5d713c-cccf-495d-97d6-8d245f5017cd",
   "metadata": {},
   "outputs": [],
   "source": []
  }
 ],
 "metadata": {
  "kernelspec": {
   "display_name": "Python 3 (ipykernel)",
   "language": "python",
   "name": "python3"
  },
  "language_info": {
   "codemirror_mode": {
    "name": "ipython",
    "version": 3
   },
   "file_extension": ".py",
   "mimetype": "text/x-python",
   "name": "python",
   "nbconvert_exporter": "python",
   "pygments_lexer": "ipython3",
   "version": "3.12.6"
  }
 },
 "nbformat": 4,
 "nbformat_minor": 5
}
