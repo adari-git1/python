{
  "nbformat": 4,
  "nbformat_minor": 0,
  "metadata": {
    "colab": {
      "provenance": [],
      "authorship_tag": "ABX9TyP1NWn+xj/V2gV2HcxriTXr",
      "include_colab_link": true
    },
    "kernelspec": {
      "name": "python3",
      "display_name": "Python 3"
    },
    "language_info": {
      "name": "python"
    }
  },
  "cells": [
    {
      "cell_type": "markdown",
      "metadata": {
        "id": "view-in-github",
        "colab_type": "text"
      },
      "source": [
        "<a href=\"https://colab.research.google.com/github/adari-git1/python/blob/master/iphone-data-analysis.ipynb\" target=\"_parent\"><img src=\"https://colab.research.google.com/assets/colab-badge.svg\" alt=\"Open In Colab\"/></a>"
      ]
    },
    {
      "cell_type": "code",
      "execution_count": 103,
      "metadata": {
        "colab": {
          "base_uri": "https://localhost:8080/"
        },
        "id": "mKejxttpvZ8_",
        "outputId": "6fa73895-8cad-44e7-a328-53f154f85a33"
      },
      "outputs": [
        {
          "output_type": "stream",
          "name": "stdout",
          "text": [
            "Requirement already satisfied: pyspark in /usr/local/lib/python3.11/dist-packages (3.5.4)\n",
            "Requirement already satisfied: py4j==0.10.9.7 in /usr/local/lib/python3.11/dist-packages (from pyspark) (0.10.9.7)\n"
          ]
        }
      ],
      "source": [
        "pip install pyspark"
      ]
    },
    {
      "cell_type": "code",
      "source": [
        "from pyspark.sql import SparkSession"
      ],
      "metadata": {
        "id": "70CEvdJ4wa5U"
      },
      "execution_count": 104,
      "outputs": []
    },
    {
      "cell_type": "code",
      "source": [
        "spark=SparkSession.builder.appName('Fitness_tracker').getOrCreate()"
      ],
      "metadata": {
        "id": "lgTmC6-dwiRK"
      },
      "execution_count": 105,
      "outputs": []
    },
    {
      "cell_type": "code",
      "source": [
        "data=spark.read.option('header',True).csv('/content/Fitness_trackers.csv')"
      ],
      "metadata": {
        "id": "xSJ7f2aBw9yE"
      },
      "execution_count": 106,
      "outputs": []
    },
    {
      "cell_type": "code",
      "source": [
        "data.show()"
      ],
      "metadata": {
        "colab": {
          "base_uri": "https://localhost:8080/"
        },
        "id": "Qvd3_rAxxY-H",
        "outputId": "51b7ec55-ac7a-43a2-d462-066336029c23"
      },
      "execution_count": 107,
      "outputs": [
        {
          "output_type": "stream",
          "name": "stdout",
          "text": [
            "+----------+-----------+--------------------+--------------------+-------------+--------------+--------------+-----------------+--------------------+------------------------------+-------+\n",
            "|Brand Name|Device Type|          Model Name|               Color|Selling Price|Original Price|       Display|Rating (Out of 5)|      Strap Material|Average Battery Life (in days)|Reviews|\n",
            "+----------+-----------+--------------------+--------------------+-------------+--------------+--------------+-----------------+--------------------+------------------------------+-------+\n",
            "|    Xiaomi|FitnessBand|        Smart Band 5|               Black|        2,499|         2,999|AMOLED Display|              4.1|Thermoplastic pol...|                            14|   NULL|\n",
            "|    Xiaomi|FitnessBand|        Smart Band 4|               Black|        2,099|         2,499|AMOLED Display|              4.2|Thermoplastic pol...|                            14|   NULL|\n",
            "|    Xiaomi|FitnessBand|            HMSH01GE|               Black|        1,722|         2,099|   LCD Display|              3.5|             Leather|                            14|   NULL|\n",
            "|    Xiaomi|FitnessBand|        Smart Band 5|               Black|        2,469|         2,999|AMOLED Display|              4.1|Thermoplastic pol...|                            14|   NULL|\n",
            "|    Xiaomi|FitnessBand|              Band 3|               Black|        1,799|         2,199|  OLED Display|              4.3|             Plastic|                             7|   NULL|\n",
            "|    Xiaomi|FitnessBand|  Band - HRX Edition|               Black|        1,299|         1,799|  OLED Display|              4.2|             Plastic|                            20|   NULL|\n",
            "|    Xiaomi|FitnessBand|              Band 2|               Black|        2,499|         2,499|  OLED Display|              4.3|             Plastic|                             7|   NULL|\n",
            "|    Xiaomi| Smartwatch|             Revolve|               Black|       12,349|        15,999|AMOLED Display|              4.4|            Silicone|                            14|      2|\n",
            "|    Xiaomi| Smartwatch|       RevolveActive|               Black|       12,999|        15,999|AMOLED Display|              4.4|            Silicone|                            14|      3|\n",
            "|    Xiaomi|FitnessBand|       Smart Band 3i|               Black|        1,270|         1,599|  OLED Display|              4.2|Thermoplastic pol...|                             7|   NULL|\n",
            "|  OnePlus |FitnessBand|Steven Harrington...|                Blue|        3,299|         3,999|AMOLED Display|              4.3|Thermoplastic pol...|                             7|   NULL|\n",
            "|  OnePlus |FitnessBand|                Band|          Dual Color|        2,499|         2,799|AMOLED Display|              4.2|Thermoplastic pol...|                             7|   NULL|\n",
            "|    FitBit| Smartwatch|             Versa 2|   Grey, Pink, Black|       11,999|        14,999|AMOLED Display|              4.3|            Silicone|                             7|   NULL|\n",
            "|    FitBit| Smartwatch|               Sense|  Black, Pink, Beige|       21,499|        22,999|AMOLED Display|              4.2|           Elastomer|                             7|   NULL|\n",
            "|    FitBit| Smartwatch|             Versa 3|   Black, Blue, Pink|       17,999|        18,999|AMOLED Display|              4.3|           Elastomer|                             7|   NULL|\n",
            "|    FitBit|FitnessBand|            Charge 4|Storm Blue, Black...|        9,999|         9,999|PMOLED Display|              4.2|           Elastomer|                             7|   NULL|\n",
            "|    FitBit|FitnessBand|             Inspire|             Maroon |        7,990|         7,999|   LED Display|              4.2|            Silicone|                             5|   NULL|\n",
            "|    FitBit|FitnessBand|           Inspire 2|Black, Desert Ros...|        6,999|         7,999|PMOLED Display|              4.4|Thermoplastic pol...|                            10|   NULL|\n",
            "|    FitBit|FitnessBand|               Lunar|              White |       10,899|        10,999|AMOLED Display|              4.7|            Silicone|                             7|   NULL|\n",
            "|    FitBit|FitnessBand|            Charge 4| Granite Reflective |       10,999|        11,999|PMOLED Display|              4.2|           Elastomer|                             7|   NULL|\n",
            "+----------+-----------+--------------------+--------------------+-------------+--------------+--------------+-----------------+--------------------+------------------------------+-------+\n",
            "only showing top 20 rows\n",
            "\n"
          ]
        }
      ]
    },
    {
      "cell_type": "code",
      "source": [
        "data.createOrReplaceTempView('Table1')"
      ],
      "metadata": {
        "id": "B0ke7pezxdoX"
      },
      "execution_count": 108,
      "outputs": []
    },
    {
      "cell_type": "code",
      "source": [
        "spark.sql(\"select count(distinct `Brand Name`) from Table1\").show()"
      ],
      "metadata": {
        "colab": {
          "base_uri": "https://localhost:8080/"
        },
        "id": "SD9ptKxKxihQ",
        "outputId": "c7303d3d-d309-47bb-a4b3-8de44322af6f"
      },
      "execution_count": 109,
      "outputs": [
        {
          "output_type": "stream",
          "name": "stdout",
          "text": [
            "+--------------------------+\n",
            "|count(DISTINCT Brand Name)|\n",
            "+--------------------------+\n",
            "|                        20|\n",
            "+--------------------------+\n",
            "\n"
          ]
        }
      ]
    },
    {
      "cell_type": "code",
      "source": [
        "data.write.mode('overwrite').partitionBy('Brand Name').format('csv').save('data2')"
      ],
      "metadata": {
        "id": "FLdZm2clycG8"
      },
      "execution_count": 110,
      "outputs": []
    },
    {
      "cell_type": "code",
      "source": [
        "Apple=spark.read.csv('/content/data2/Brand Name=APPLE/part-00000-2b5f8810-e3bd-4194-9da5-ee68fa90c0cb.c000.csv')"
      ],
      "metadata": {
        "id": "HHfP4Frf1OiD"
      },
      "execution_count": 143,
      "outputs": []
    },
    {
      "cell_type": "code",
      "source": [
        "Apple=Apple.withColumnRenamed(\"_c0\", \"Device Type\").withColumnRenamed(\"_c1\", \"Model name\").withColumnRenamed(\"_c2\", \"Color\").withColumnRenamed(\"_c3\", \"Selling_Price\").withColumnRenamed(\"_c4\", \"Original_price\").withColumnRenamed(\"_c5\", \"Display\").withColumnRenamed(\"_c6\", \"Rating\").withColumnRenamed(\"_c7\", \"Strap_material\").withColumnRenamed(\"_c8\", \"Battery_life\")"
      ],
      "metadata": {
        "id": "mwl-8nOP6zOc"
      },
      "execution_count": 144,
      "outputs": []
    },
    {
      "cell_type": "code",
      "source": [
        "Apple=Apple.drop('_c9')"
      ],
      "metadata": {
        "id": "K3dBr6pQ2yap"
      },
      "execution_count": 145,
      "outputs": []
    },
    {
      "cell_type": "code",
      "source": [
        "Apple.show()"
      ],
      "metadata": {
        "colab": {
          "base_uri": "https://localhost:8080/"
        },
        "id": "2eO-R_HY8_6A",
        "outputId": "a8722f9e-ed89-4028-a166-d7b3f28c3841"
      },
      "execution_count": 146,
      "outputs": [
        {
          "output_type": "stream",
          "name": "stdout",
          "text": [
            "+-----------+--------------------+------------------+-------------+--------------+-------------------+------+---------------+------------+\n",
            "|Device Type|          Model name|             Color|Selling_Price|Original_price|            Display|Rating| Strap_material|Battery_life|\n",
            "+-----------+--------------------+------------------+-------------+--------------+-------------------+------+---------------+------------+\n",
            "| Smartwatch|Series 3 GPS - 42...|             Black|       18,900|        23,900|OLED Retina Display|   4.6|      Aluminium|           1|\n",
            "| Smartwatch|SE 44 mm Space Gr...|             Black|       30,400|        32,900|OLED Retina Display|   4.7|      Aluminium|           1|\n",
            "| Smartwatch|Series 3 GPS - 38...|             Black|       16,900|        20,900|OLED Retina Display|   4.6|      Aluminium|           1|\n",
            "| Smartwatch|SE GPS + Cellular...|             Black|       36,900|        36,900|OLED Retina Display|   4.6|      Aluminium|           1|\n",
            "| Smartwatch|SE GPS + Cellular...|          Charcoal|       31,400|        33,900|OLED Retina Display|   4.6|      Aluminium|           1|\n",
            "| Smartwatch|SE 40 mm Space Gr...|Black, Pink, White|       27,400|        29,900|OLED Retina Display|   4.7|      Aluminium|           1|\n",
            "| Smartwatch|Series 6 GPS + Ce...|               Red|       45,690|        49,900|OLED Retina Display|   4.5|      Aluminium|           1|\n",
            "| Smartwatch|SE 44 mm Gold Alu...|         Pink Sand|       30,400|        32,900|OLED Retina Display|   4.7|      Aluminium|           1|\n",
            "| Smartwatch|SE GPS + Cellular...|              Plum|       31,400|        33,900|OLED Retina Display|   4.6|      Aluminium|           1|\n",
            "| Smartwatch|SE GPS + Cellular...|             Black|       33,900|        33,900|OLED Retina Display|   4.6|      Aluminium|           1|\n",
            "| Smartwatch|Series 6 GPS 40 m...|             White|       37,490|        40,900|OLED Retina Display|   4.5|      Aluminium|           1|\n",
            "| Smartwatch|Series 6 GPS + Ce...|         Deep Navy|       45,690|        49,900|OLED Retina Display|   4.5|      Aluminium|           1|\n",
            "| Smartwatch|Series 6 GPS + Ce...| Graphite Milanese|       67,900|        73,900|OLED Retina Display|   4.5|Stainless Steel|           1|\n",
            "| Smartwatch|Series 6 GPS 44 m...|               Red|       40,190|        43,900|OLED Retina Display|   4.5|      Aluminium|           1|\n",
            "| Smartwatch|SE GPS 44 mm Alum...|             Black|       32,900|        32,900|OLED Retina Display|   4.7|      Aluminium|           1|\n",
            "| Smartwatch|Series 6 GPS + Ce...|             black|       45,690|        49,900|OLED Retina Display|   4.5|      Aluminium|           1|\n",
            "| Smartwatch|Series 6 GPS + Ce...|             White|       69,900|        69,900|OLED Retina Display|   4.2|      Aluminium|           1|\n",
            "| Smartwatch|Series 5 GPS + Ce...|    Black Milanese|       69,900|        69,900|OLED Retina Display|   4.6|Stainless Steel|           1|\n",
            "| Smartwatch|Series 5 GPS + Ce...|     Gold Milanese|       73,900|        73,900|OLED Retina Display|   4.2|Stainless Steel|           1|\n",
            "| Smartwatch|Series 6 GPS 44 m...|         Deep Navy|       43,900|        43,900|OLED Retina Display|   4.5|      Aluminium|           1|\n",
            "+-----------+--------------------+------------------+-------------+--------------+-------------------+------+---------------+------------+\n",
            "only showing top 20 rows\n",
            "\n"
          ]
        }
      ]
    },
    {
      "cell_type": "code",
      "source": [
        "Apple=Apple.replace({',':''})"
      ],
      "metadata": {
        "id": "EbLe58bo305Q"
      },
      "execution_count": 116,
      "outputs": []
    },
    {
      "cell_type": "code",
      "source": [
        "Apple=Apple.withColumn('Selling_Price',col('Selling_price').cast('int')).withColumn('Original_price',col('Original_price').cast('int'))"
      ],
      "metadata": {
        "id": "-fJ_eIM5HrID"
      },
      "execution_count": 160,
      "outputs": []
    },
    {
      "cell_type": "code",
      "source": [
        "Apple.printSchema()"
      ],
      "metadata": {
        "colab": {
          "base_uri": "https://localhost:8080/"
        },
        "id": "DzxtSEzS_O6f",
        "outputId": "39582e64-0b39-469b-9e45-841e895b1c54"
      },
      "execution_count": 161,
      "outputs": [
        {
          "output_type": "stream",
          "name": "stdout",
          "text": [
            "root\n",
            " |-- Device Type: string (nullable = true)\n",
            " |-- Model name: string (nullable = true)\n",
            " |-- Color: string (nullable = true)\n",
            " |-- Selling_Price: integer (nullable = true)\n",
            " |-- Original_price: integer (nullable = true)\n",
            " |-- Display: string (nullable = true)\n",
            " |-- Rating: string (nullable = true)\n",
            " |-- Strap_material: string (nullable = true)\n",
            " |-- Battery_life: string (nullable = true)\n",
            "\n"
          ]
        }
      ]
    },
    {
      "cell_type": "code",
      "source": [
        "Apple.createOrReplaceTempView('Table2')"
      ],
      "metadata": {
        "id": "ZOhuz9mTFkUK"
      },
      "execution_count": 162,
      "outputs": []
    },
    {
      "cell_type": "code",
      "source": [
        "spark.sql('select * from Table2').show()"
      ],
      "metadata": {
        "colab": {
          "base_uri": "https://localhost:8080/"
        },
        "id": "KWE3QpajFYuw",
        "outputId": "f6181898-cb09-413b-9848-97fd401f1db2"
      },
      "execution_count": 163,
      "outputs": [
        {
          "output_type": "stream",
          "name": "stdout",
          "text": [
            "+-----------+--------------------+------------------+-------------+--------------+-------------------+------+---------------+------------+\n",
            "|Device Type|          Model name|             Color|Selling_Price|Original_price|            Display|Rating| Strap_material|Battery_life|\n",
            "+-----------+--------------------+------------------+-------------+--------------+-------------------+------+---------------+------------+\n",
            "| Smartwatch|Series 3 GPS - 42...|             Black|        18900|         23900|OLED Retina Display|   4.6|      Aluminium|           1|\n",
            "| Smartwatch|SE 44 mm Space Gr...|             Black|        30400|         32900|OLED Retina Display|   4.7|      Aluminium|           1|\n",
            "| Smartwatch|Series 3 GPS - 38...|             Black|        16900|         20900|OLED Retina Display|   4.6|      Aluminium|           1|\n",
            "| Smartwatch|SE GPS + Cellular...|             Black|        36900|         36900|OLED Retina Display|   4.6|      Aluminium|           1|\n",
            "| Smartwatch|SE GPS + Cellular...|          Charcoal|        31400|         33900|OLED Retina Display|   4.6|      Aluminium|           1|\n",
            "| Smartwatch|SE 40 mm Space Gr...|Black, Pink, White|        27400|         29900|OLED Retina Display|   4.7|      Aluminium|           1|\n",
            "| Smartwatch|Series 6 GPS + Ce...|               Red|        45690|         49900|OLED Retina Display|   4.5|      Aluminium|           1|\n",
            "| Smartwatch|SE 44 mm Gold Alu...|         Pink Sand|        30400|         32900|OLED Retina Display|   4.7|      Aluminium|           1|\n",
            "| Smartwatch|SE GPS + Cellular...|              Plum|        31400|         33900|OLED Retina Display|   4.6|      Aluminium|           1|\n",
            "| Smartwatch|SE GPS + Cellular...|             Black|        33900|         33900|OLED Retina Display|   4.6|      Aluminium|           1|\n",
            "| Smartwatch|Series 6 GPS 40 m...|             White|        37490|         40900|OLED Retina Display|   4.5|      Aluminium|           1|\n",
            "| Smartwatch|Series 6 GPS + Ce...|         Deep Navy|        45690|         49900|OLED Retina Display|   4.5|      Aluminium|           1|\n",
            "| Smartwatch|Series 6 GPS + Ce...| Graphite Milanese|        67900|         73900|OLED Retina Display|   4.5|Stainless Steel|           1|\n",
            "| Smartwatch|Series 6 GPS 44 m...|               Red|        40190|         43900|OLED Retina Display|   4.5|      Aluminium|           1|\n",
            "| Smartwatch|SE GPS 44 mm Alum...|             Black|        32900|         32900|OLED Retina Display|   4.7|      Aluminium|           1|\n",
            "| Smartwatch|Series 6 GPS + Ce...|             black|        45690|         49900|OLED Retina Display|   4.5|      Aluminium|           1|\n",
            "| Smartwatch|Series 6 GPS + Ce...|             White|        69900|         69900|OLED Retina Display|   4.2|      Aluminium|           1|\n",
            "| Smartwatch|Series 5 GPS + Ce...|    Black Milanese|        69900|         69900|OLED Retina Display|   4.6|Stainless Steel|           1|\n",
            "| Smartwatch|Series 5 GPS + Ce...|     Gold Milanese|        73900|         73900|OLED Retina Display|   4.2|Stainless Steel|           1|\n",
            "| Smartwatch|Series 6 GPS 44 m...|         Deep Navy|        43900|         43900|OLED Retina Display|   4.5|      Aluminium|           1|\n",
            "+-----------+--------------------+------------------+-------------+--------------+-------------------+------+---------------+------------+\n",
            "only showing top 20 rows\n",
            "\n"
          ]
        }
      ]
    },
    {
      "cell_type": "markdown",
      "source": [],
      "metadata": {
        "id": "YXh-WzXOI-io"
      }
    },
    {
      "cell_type": "code",
      "source": [
        "spark.sql('select `Device Type`,Display,rating,Discount from(select *,Original_price-Selling_Price as discount from Table2)Dis order by discount desc limit 1').show(truncate =False)"
      ],
      "metadata": {
        "colab": {
          "base_uri": "https://localhost:8080/"
        },
        "id": "i7GQ5nXlFctH",
        "outputId": "85dd61f0-95fc-49c7-caba-bd5d9f111fab"
      },
      "execution_count": 172,
      "outputs": [
        {
          "output_type": "stream",
          "name": "stdout",
          "text": [
            "+-----------+-------------------+------+--------+\n",
            "|Device Type|Display            |rating|Discount|\n",
            "+-----------+-------------------+------+--------+\n",
            "|Smartwatch |OLED Retina Display|4.5   |9910    |\n",
            "+-----------+-------------------+------+--------+\n",
            "\n"
          ]
        }
      ]
    },
    {
      "cell_type": "code",
      "source": [],
      "metadata": {
        "id": "FgZoqRppIPfY"
      },
      "execution_count": null,
      "outputs": []
    }
  ]
}